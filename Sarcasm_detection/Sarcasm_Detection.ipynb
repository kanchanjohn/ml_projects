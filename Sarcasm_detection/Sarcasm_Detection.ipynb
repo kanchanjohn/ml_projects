{
 "cells": [
  {
   "cell_type": "markdown",
   "metadata": {
    "colab_type": "text",
    "id": "zLLg1DvMu6uw"
   },
   "source": [
    "# Sarcasm Detection Classification\n"
   ]
  },
  {
   "cell_type": "markdown",
   "metadata": {
    "colab_type": "text",
    "id": "oQQRa3DPvA6L"
   },
   "source": [
    "### Importing Libraries and Packages"
   ]
  },
  {
   "cell_type": "code",
   "execution_count": 1,
   "metadata": {
    "colab": {},
    "colab_type": "code",
    "id": "FeZxpUEuVAo3"
   },
   "outputs": [
    {
     "name": "stderr",
     "output_type": "stream",
     "text": [
      "F:\\ProgramData\\Anaconda3\\lib\\site-packages\\sklearn\\ensemble\\weight_boosting.py:29: DeprecationWarning: numpy.core.umath_tests is an internal NumPy module and should not be imported. It will be removed in a future NumPy release.\n",
      "  from numpy.core.umath_tests import inner1d\n"
     ]
    }
   ],
   "source": [
    "import numpy as np\n",
    "import pandas as pd\n",
    "import matplotlib.pyplot as plt\n",
    "import seaborn as sns\n",
    "import sklearn.metrics as metrics\n",
    "from sklearn.utils.fixes import signature\n",
    "\n",
    "%matplotlib inline\n",
    "\n",
    "import re\n",
    "import warnings\n",
    "\n",
    "from sklearn.feature_extraction.text import TfidfTransformer\n",
    "from sklearn.feature_extraction.text import CountVectorizer\n",
    "\n",
    "from textblob import TextBlob\n",
    "import nltk\n",
    "from nltk.corpus import stopwords\n",
    "#nltk.download('brown')\n",
    "#nltk.download('punkt')\n",
    "#nltk.download('stopwords')\n",
    "\n",
    "from sklearn.model_selection import train_test_split\n",
    "from sklearn import naive_bayes\n",
    "from sklearn.ensemble import RandomForestClassifier\n",
    "from sklearn.naive_bayes import MultinomialNB\n",
    "from sklearn.metrics import roc_auc_score\n",
    "from sklearn.model_selection import RandomizedSearchCV"
   ]
  },
  {
   "cell_type": "markdown",
   "metadata": {
    "colab_type": "text",
    "id": "TPn4nMczvHF4"
   },
   "source": [
    "### Loading The Dataset"
   ]
  },
  {
   "cell_type": "code",
   "execution_count": 2,
   "metadata": {
    "colab": {},
    "colab_type": "code",
    "id": "oBn43f5nUh6m"
   },
   "outputs": [],
   "source": [
    "your_local_path = \"F:/kanchan/job 2019/for GIT/Sarcasm_detection/\" \n",
    "train = pd.read_csv('train.csv')"
   ]
  },
  {
   "cell_type": "code",
   "execution_count": 3,
   "metadata": {
    "colab": {},
    "colab_type": "code",
    "id": "1etwwcoLUkcB"
   },
   "outputs": [],
   "source": [
    "your_local_path = \"F:/kanchan/job 2019/for GIT/Sarcasm_detection/\"  \n",
    "test = pd.read_csv('test.csv')"
   ]
  },
  {
   "cell_type": "markdown",
   "metadata": {
    "colab_type": "text",
    "id": "lWpGh3a2vrac"
   },
   "source": [
    "### Exploratory Data Analysis"
   ]
  },
  {
   "cell_type": "markdown",
   "metadata": {
    "colab_type": "text",
    "id": "RpcMzUTsvvC6"
   },
   "source": [
    "Let's have a look at the dataset"
   ]
  },
  {
   "cell_type": "code",
   "execution_count": 4,
   "metadata": {
    "colab": {
     "base_uri": "https://localhost:8080/",
     "height": 204
    },
    "colab_type": "code",
    "id": "bBwVcplBvtdC",
    "outputId": "a1a5a699-9c6e-4fd0-c646-dbf21e6c589f"
   },
   "outputs": [
    {
     "data": {
      "text/html": [
       "<div>\n",
       "<style scoped>\n",
       "    .dataframe tbody tr th:only-of-type {\n",
       "        vertical-align: middle;\n",
       "    }\n",
       "\n",
       "    .dataframe tbody tr th {\n",
       "        vertical-align: top;\n",
       "    }\n",
       "\n",
       "    .dataframe thead th {\n",
       "        text-align: right;\n",
       "    }\n",
       "</style>\n",
       "<table border=\"1\" class=\"dataframe\">\n",
       "  <thead>\n",
       "    <tr style=\"text-align: right;\">\n",
       "      <th></th>\n",
       "      <th>Unnamed: 0</th>\n",
       "      <th>article_link</th>\n",
       "      <th>headline</th>\n",
       "      <th>is_sarcastic</th>\n",
       "    </tr>\n",
       "  </thead>\n",
       "  <tbody>\n",
       "    <tr>\n",
       "      <th>0</th>\n",
       "      <td>19691</td>\n",
       "      <td>https://local.theonion.com/cat-internally-deba...</td>\n",
       "      <td>cat internally debates whether or not to rip h...</td>\n",
       "      <td>1</td>\n",
       "    </tr>\n",
       "    <tr>\n",
       "      <th>1</th>\n",
       "      <td>17031</td>\n",
       "      <td>https://www.theonion.com/new-college-freshman-...</td>\n",
       "      <td>new college freshman refers to dorm by actual ...</td>\n",
       "      <td>1</td>\n",
       "    </tr>\n",
       "    <tr>\n",
       "      <th>2</th>\n",
       "      <td>8979</td>\n",
       "      <td>https://www.huffingtonpost.com/entry/deputy-br...</td>\n",
       "      <td>viral photo captures incredible moment between...</td>\n",
       "      <td>0</td>\n",
       "    </tr>\n",
       "    <tr>\n",
       "      <th>3</th>\n",
       "      <td>17805</td>\n",
       "      <td>https://www.huffingtonpost.com/entry/limits-or...</td>\n",
       "      <td>limits or limitless?</td>\n",
       "      <td>0</td>\n",
       "    </tr>\n",
       "    <tr>\n",
       "      <th>4</th>\n",
       "      <td>2900</td>\n",
       "      <td>https://entertainment.theonion.com/charlton-he...</td>\n",
       "      <td>charlton heston's gun taken from his cold, dea...</td>\n",
       "      <td>1</td>\n",
       "    </tr>\n",
       "  </tbody>\n",
       "</table>\n",
       "</div>"
      ],
      "text/plain": [
       "   Unnamed: 0                                       article_link  \\\n",
       "0       19691  https://local.theonion.com/cat-internally-deba...   \n",
       "1       17031  https://www.theonion.com/new-college-freshman-...   \n",
       "2        8979  https://www.huffingtonpost.com/entry/deputy-br...   \n",
       "3       17805  https://www.huffingtonpost.com/entry/limits-or...   \n",
       "4        2900  https://entertainment.theonion.com/charlton-he...   \n",
       "\n",
       "                                            headline  is_sarcastic  \n",
       "0  cat internally debates whether or not to rip h...             1  \n",
       "1  new college freshman refers to dorm by actual ...             1  \n",
       "2  viral photo captures incredible moment between...             0  \n",
       "3                               limits or limitless?             0  \n",
       "4  charlton heston's gun taken from his cold, dea...             1  "
      ]
     },
     "execution_count": 4,
     "metadata": {},
     "output_type": "execute_result"
    }
   ],
   "source": [
    "train.head()"
   ]
  },
  {
   "cell_type": "code",
   "execution_count": 5,
   "metadata": {
    "colab": {
     "base_uri": "https://localhost:8080/",
     "height": 204
    },
    "colab_type": "code",
    "id": "WnVr06R0v0dK",
    "outputId": "06555570-36f7-47ad-ecb6-202454fd1b00"
   },
   "outputs": [
    {
     "data": {
      "text/html": [
       "<div>\n",
       "<style scoped>\n",
       "    .dataframe tbody tr th:only-of-type {\n",
       "        vertical-align: middle;\n",
       "    }\n",
       "\n",
       "    .dataframe tbody tr th {\n",
       "        vertical-align: top;\n",
       "    }\n",
       "\n",
       "    .dataframe thead th {\n",
       "        text-align: right;\n",
       "    }\n",
       "</style>\n",
       "<table border=\"1\" class=\"dataframe\">\n",
       "  <thead>\n",
       "    <tr style=\"text-align: right;\">\n",
       "      <th></th>\n",
       "      <th>Unnamed: 0</th>\n",
       "      <th>article_link</th>\n",
       "      <th>headline</th>\n",
       "    </tr>\n",
       "  </thead>\n",
       "  <tbody>\n",
       "    <tr>\n",
       "      <th>0</th>\n",
       "      <td>6913</td>\n",
       "      <td>https://www.huffingtonpost.com/entry/paul-ryan...</td>\n",
       "      <td>paul ryan is more of a con man than ever</td>\n",
       "    </tr>\n",
       "    <tr>\n",
       "      <th>1</th>\n",
       "      <td>11611</td>\n",
       "      <td>https://www.huffingtonpost.com/entry/to-breast...</td>\n",
       "      <td>to breast or bottle feed, a woman's choice: le...</td>\n",
       "    </tr>\n",
       "    <tr>\n",
       "      <th>2</th>\n",
       "      <td>25947</td>\n",
       "      <td>https://www.theonion.com/chili-s-introduces-sa...</td>\n",
       "      <td>chili's introduces savory new 200-times-baked ...</td>\n",
       "    </tr>\n",
       "    <tr>\n",
       "      <th>3</th>\n",
       "      <td>24478</td>\n",
       "      <td>https://www.huffingtonpost.com/entry/5-friends...</td>\n",
       "      <td>5 friendship lessons you learned on the playgr...</td>\n",
       "    </tr>\n",
       "    <tr>\n",
       "      <th>4</th>\n",
       "      <td>11863</td>\n",
       "      <td>https://www.huffingtonpost.com/entry/remember-...</td>\n",
       "      <td>remembering high school</td>\n",
       "    </tr>\n",
       "  </tbody>\n",
       "</table>\n",
       "</div>"
      ],
      "text/plain": [
       "   Unnamed: 0                                       article_link  \\\n",
       "0        6913  https://www.huffingtonpost.com/entry/paul-ryan...   \n",
       "1       11611  https://www.huffingtonpost.com/entry/to-breast...   \n",
       "2       25947  https://www.theonion.com/chili-s-introduces-sa...   \n",
       "3       24478  https://www.huffingtonpost.com/entry/5-friends...   \n",
       "4       11863  https://www.huffingtonpost.com/entry/remember-...   \n",
       "\n",
       "                                            headline  \n",
       "0           paul ryan is more of a con man than ever  \n",
       "1  to breast or bottle feed, a woman's choice: le...  \n",
       "2  chili's introduces savory new 200-times-baked ...  \n",
       "3  5 friendship lessons you learned on the playgr...  \n",
       "4                            remembering high school  "
      ]
     },
     "execution_count": 5,
     "metadata": {},
     "output_type": "execute_result"
    }
   ],
   "source": [
    "test.head()"
   ]
  },
  {
   "cell_type": "code",
   "execution_count": 6,
   "metadata": {
    "colab": {
     "base_uri": "https://localhost:8080/",
     "height": 51
    },
    "colab_type": "code",
    "id": "l1qqS1dnv2GR",
    "outputId": "4286730a-163e-437f-a938-f25859a87239"
   },
   "outputs": [
    {
     "name": "stdout",
     "output_type": "stream",
     "text": [
      "Training Set:  (20031, 4)\n",
      "Testing Set:  (6678, 3)\n"
     ]
    }
   ],
   "source": [
    "# Shape of the dataset\n",
    "print('Training Set: ', train.shape)\n",
    "print('Testing Set: ', test.shape)"
   ]
  },
  {
   "cell_type": "code",
   "execution_count": 7,
   "metadata": {
    "colab": {
     "base_uri": "https://localhost:8080/",
     "height": 301
    },
    "colab_type": "code",
    "id": "FKaigCSI4Jk3",
    "outputId": "b3480796-8f4c-4bb4-a4d8-9640d01d4734"
   },
   "outputs": [
    {
     "data": {
      "text/plain": [
       "<matplotlib.axes._subplots.AxesSubplot at 0x6e6ff27048>"
      ]
     },
     "execution_count": 7,
     "metadata": {},
     "output_type": "execute_result"
    },
    {
     "data": {
      "image/png": "[encoded data removed]",
      "text/plain": [
       "<matplotlib.figure.Figure at 0x6e6fa9e588>"
      ]
     },
     "metadata": {},
     "output_type": "display_data"
    }
   ],
   "source": [
    "# Lets see the number of datapoints in each category.\n",
    "sns.countplot(x = 'is_sarcastic', data = train)"
   ]
  },
  {
   "cell_type": "code",
   "execution_count": 8,
   "metadata": {
    "colab": {
     "base_uri": "https://localhost:8080/",
     "height": 68
    },
    "colab_type": "code",
    "id": "h2lJSTG65OaJ",
    "outputId": "d24a1fc2-208d-40e6-d958-b138402d85a9"
   },
   "outputs": [
    {
     "data": {
      "text/plain": [
       "0    11276\n",
       "1     8755\n",
       "Name: is_sarcastic, dtype: int64"
      ]
     },
     "execution_count": 8,
     "metadata": {},
     "output_type": "execute_result"
    }
   ],
   "source": [
    "train['is_sarcastic'].value_counts()"
   ]
  },
  {
   "cell_type": "markdown",
   "metadata": {
    "colab_type": "text",
    "id": "ZCzzTDBF5Xcv"
   },
   "source": [
    " So the data is spread in 56:44 ratio."
   ]
  },
  {
   "cell_type": "code",
   "execution_count": 9,
   "metadata": {
    "colab": {
     "base_uri": "https://localhost:8080/",
     "height": 34
    },
    "colab_type": "code",
    "id": "uoPuFLXZ3VEZ",
    "outputId": "8273901e-2084-4fa9-f946-6ac1648757d2"
   },
   "outputs": [
    {
     "data": {
      "text/plain": [
       "'limits or limitless'"
      ]
     },
     "execution_count": 9,
     "metadata": {},
     "output_type": "execute_result"
    }
   ],
   "source": [
    "#data cleaning\n",
    "train['headline'] = train['headline'].apply(lambda x: re.sub('[!@#$:).;,?&]', '', x.lower()))\n",
    "train['headline'] = train['headline'].apply(lambda x: re.sub('  ', ' ', x))\n",
    "train['headline'][3]"
   ]
  },
  {
   "cell_type": "code",
   "execution_count": 10,
   "metadata": {
    "colab": {},
    "colab_type": "code",
    "id": "iODyXDCL53vU"
   },
   "outputs": [],
   "source": [
    "#Classifying the datapoints into Happy, Neutral and Sad categories as Sentiments based on their polarity index.\n",
    "train['sentiment'] = train['headline'].apply(lambda x: TextBlob(x).sentiment.polarity)\n",
    "train['sentiment_type'] = ''\n",
    "train.loc[train.sentiment >= 0,'sentiment_type'] = 'HAPPY'\n",
    "train.loc[train.sentiment == 0,'sentiment_type'] = 'NEUTRAL'\n",
    "train.loc[train.sentiment < 0,'sentiment_type'] = 'SAD'"
   ]
  },
  {
   "cell_type": "code",
   "execution_count": 11,
   "metadata": {
    "colab": {
     "base_uri": "https://localhost:8080/",
     "height": 289
    },
    "colab_type": "code",
    "id": "2OSMMpEg6Cni",
    "outputId": "9b13bf5a-157c-48aa-95ce-1451f95406a3"
   },
   "outputs": [
    {
     "data": {
      "text/html": [
       "<div>\n",
       "<style scoped>\n",
       "    .dataframe tbody tr th:only-of-type {\n",
       "        vertical-align: middle;\n",
       "    }\n",
       "\n",
       "    .dataframe tbody tr th {\n",
       "        vertical-align: top;\n",
       "    }\n",
       "\n",
       "    .dataframe thead th {\n",
       "        text-align: right;\n",
       "    }\n",
       "</style>\n",
       "<table border=\"1\" class=\"dataframe\">\n",
       "  <thead>\n",
       "    <tr style=\"text-align: right;\">\n",
       "      <th></th>\n",
       "      <th>Unnamed: 0</th>\n",
       "      <th>article_link</th>\n",
       "      <th>headline</th>\n",
       "      <th>is_sarcastic</th>\n",
       "      <th>sentiment</th>\n",
       "      <th>sentiment_type</th>\n",
       "    </tr>\n",
       "  </thead>\n",
       "  <tbody>\n",
       "    <tr>\n",
       "      <th>0</th>\n",
       "      <td>19691</td>\n",
       "      <td>https://local.theonion.com/cat-internally-deba...</td>\n",
       "      <td>cat internally debates whether or not to rip h...</td>\n",
       "      <td>1</td>\n",
       "      <td>0.000000</td>\n",
       "      <td>NEUTRAL</td>\n",
       "    </tr>\n",
       "    <tr>\n",
       "      <th>1</th>\n",
       "      <td>17031</td>\n",
       "      <td>https://www.theonion.com/new-college-freshman-...</td>\n",
       "      <td>new college freshman refers to dorm by actual ...</td>\n",
       "      <td>1</td>\n",
       "      <td>0.068182</td>\n",
       "      <td>HAPPY</td>\n",
       "    </tr>\n",
       "    <tr>\n",
       "      <th>2</th>\n",
       "      <td>8979</td>\n",
       "      <td>https://www.huffingtonpost.com/entry/deputy-br...</td>\n",
       "      <td>viral photo captures incredible moment between...</td>\n",
       "      <td>0</td>\n",
       "      <td>0.900000</td>\n",
       "      <td>HAPPY</td>\n",
       "    </tr>\n",
       "    <tr>\n",
       "      <th>3</th>\n",
       "      <td>17805</td>\n",
       "      <td>https://www.huffingtonpost.com/entry/limits-or...</td>\n",
       "      <td>limits or limitless</td>\n",
       "      <td>0</td>\n",
       "      <td>0.000000</td>\n",
       "      <td>NEUTRAL</td>\n",
       "    </tr>\n",
       "    <tr>\n",
       "      <th>4</th>\n",
       "      <td>2900</td>\n",
       "      <td>https://entertainment.theonion.com/charlton-he...</td>\n",
       "      <td>charlton heston's gun taken from his cold dead...</td>\n",
       "      <td>1</td>\n",
       "      <td>-0.400000</td>\n",
       "      <td>SAD</td>\n",
       "    </tr>\n",
       "  </tbody>\n",
       "</table>\n",
       "</div>"
      ],
      "text/plain": [
       "   Unnamed: 0                                       article_link  \\\n",
       "0       19691  https://local.theonion.com/cat-internally-deba...   \n",
       "1       17031  https://www.theonion.com/new-college-freshman-...   \n",
       "2        8979  https://www.huffingtonpost.com/entry/deputy-br...   \n",
       "3       17805  https://www.huffingtonpost.com/entry/limits-or...   \n",
       "4        2900  https://entertainment.theonion.com/charlton-he...   \n",
       "\n",
       "                                            headline  is_sarcastic  sentiment  \\\n",
       "0  cat internally debates whether or not to rip h...             1   0.000000   \n",
       "1  new college freshman refers to dorm by actual ...             1   0.068182   \n",
       "2  viral photo captures incredible moment between...             0   0.900000   \n",
       "3                                limits or limitless             0   0.000000   \n",
       "4  charlton heston's gun taken from his cold dead...             1  -0.400000   \n",
       "\n",
       "  sentiment_type  \n",
       "0        NEUTRAL  \n",
       "1          HAPPY  \n",
       "2          HAPPY  \n",
       "3        NEUTRAL  \n",
       "4            SAD  "
      ]
     },
     "execution_count": 11,
     "metadata": {},
     "output_type": "execute_result"
    }
   ],
   "source": [
    "train.head()"
   ]
  },
  {
   "cell_type": "code",
   "execution_count": 12,
   "metadata": {
    "colab": {
     "base_uri": "https://localhost:8080/",
     "height": 433
    },
    "colab_type": "code",
    "id": "-tuMVsgX6WdP",
    "outputId": "3e4cf570-2c8c-4ecd-df3e-539ad9c8f6f7"
   },
   "outputs": [
    {
     "data": {
      "image/png": "[encoded data removed]",
      "text/plain": [
       "<matplotlib.figure.Figure at 0x6e705fd390>"
      ]
     },
     "metadata": {},
     "output_type": "display_data"
    }
   ],
   "source": [
    "sns.factorplot(x = 'is_sarcastic', col = 'sentiment_type', kind = 'count', data = train);"
   ]
  },
  {
   "cell_type": "markdown",
   "metadata": {
    "colab_type": "text",
    "id": "6tJvQMTL6-1_"
   },
   "source": [
    "\n",
    "\n",
    "*For NEUTRAL Category*, we have approx, 6000 not sarcastic comments and approx 4000 sarcastic comment.\n",
    "\n",
    "*For HAPPY(Positive) Category*, we have approx, 3700 not sarcastic comments and approx 3000 sarcastic comment.\n",
    "\n",
    "*For SAD(Negative) Category*, we have approx, 1900 not sarcastic comments and approx 1900 sarcastic comment.\n",
    "\n",
    "With this distribution it is very difficult to categorize the comments into sarcastic ot not sarcatic comments based on their sentiments categories."
   ]
  },
  {
   "cell_type": "markdown",
   "metadata": {
    "colab_type": "text",
    "id": "vYt3nClF790H"
   },
   "source": [
    "### Data Preparation"
   ]
  },
  {
   "cell_type": "code",
   "execution_count": 13,
   "metadata": {
    "colab": {
     "base_uri": "https://localhost:8080/",
     "height": 68
    },
    "colab_type": "code",
    "id": "IikUfg3X6qek",
    "outputId": "51ca0960-ac01-4b89-e0b6-6a93e8291342"
   },
   "outputs": [
    {
     "data": {
      "text/plain": [
       "Index(['Unnamed: 0', 'article_link', 'headline', 'is_sarcastic', 'sentiment',\n",
       "       'sentiment_type'],\n",
       "      dtype='object')"
      ]
     },
     "execution_count": 13,
     "metadata": {},
     "output_type": "execute_result"
    }
   ],
   "source": [
    "train.columns"
   ]
  },
  {
   "cell_type": "code",
   "execution_count": 14,
   "metadata": {
    "colab": {
     "base_uri": "https://localhost:8080/",
     "height": 34
    },
    "colab_type": "code",
    "id": "7PQNsD6Q8lps",
    "outputId": "14d9a2a7-7baa-4770-8560-e4020a0c3239"
   },
   "outputs": [
    {
     "data": {
      "text/plain": [
       "Index(['Unnamed: 0', 'article_link', 'headline'], dtype='object')"
      ]
     },
     "execution_count": 14,
     "metadata": {},
     "output_type": "execute_result"
    }
   ],
   "source": [
    "test.columns"
   ]
  },
  {
   "cell_type": "code",
   "execution_count": 15,
   "metadata": {
    "colab": {},
    "colab_type": "code",
    "id": "9I9PXTyt8C9e"
   },
   "outputs": [],
   "source": [
    "# Deleting the unwanted columns \n",
    "train = train.drop(columns = ['Unnamed: 0', 'article_link', 'sentiment', 'sentiment_type'], axis = 1)\n",
    "\n",
    "# Performing the same operation on test dataset\n",
    "test = test.drop(columns = ['Unnamed: 0', 'article_link'], axis = 1)"
   ]
  },
  {
   "cell_type": "code",
   "execution_count": 16,
   "metadata": {
    "colab": {
     "base_uri": "https://localhost:8080/",
     "height": 204
    },
    "colab_type": "code",
    "id": "28EepJWq8R38",
    "outputId": "04f1edf1-669d-4d76-86ac-37ba99b09395"
   },
   "outputs": [
    {
     "data": {
      "text/html": [
       "<div>\n",
       "<style scoped>\n",
       "    .dataframe tbody tr th:only-of-type {\n",
       "        vertical-align: middle;\n",
       "    }\n",
       "\n",
       "    .dataframe tbody tr th {\n",
       "        vertical-align: top;\n",
       "    }\n",
       "\n",
       "    .dataframe thead th {\n",
       "        text-align: right;\n",
       "    }\n",
       "</style>\n",
       "<table border=\"1\" class=\"dataframe\">\n",
       "  <thead>\n",
       "    <tr style=\"text-align: right;\">\n",
       "      <th></th>\n",
       "      <th>headline</th>\n",
       "      <th>is_sarcastic</th>\n",
       "    </tr>\n",
       "  </thead>\n",
       "  <tbody>\n",
       "    <tr>\n",
       "      <th>0</th>\n",
       "      <td>cat internally debates whether or not to rip h...</td>\n",
       "      <td>1</td>\n",
       "    </tr>\n",
       "    <tr>\n",
       "      <th>1</th>\n",
       "      <td>new college freshman refers to dorm by actual ...</td>\n",
       "      <td>1</td>\n",
       "    </tr>\n",
       "    <tr>\n",
       "      <th>2</th>\n",
       "      <td>viral photo captures incredible moment between...</td>\n",
       "      <td>0</td>\n",
       "    </tr>\n",
       "    <tr>\n",
       "      <th>3</th>\n",
       "      <td>limits or limitless</td>\n",
       "      <td>0</td>\n",
       "    </tr>\n",
       "    <tr>\n",
       "      <th>4</th>\n",
       "      <td>charlton heston's gun taken from his cold dead...</td>\n",
       "      <td>1</td>\n",
       "    </tr>\n",
       "  </tbody>\n",
       "</table>\n",
       "</div>"
      ],
      "text/plain": [
       "                                            headline  is_sarcastic\n",
       "0  cat internally debates whether or not to rip h...             1\n",
       "1  new college freshman refers to dorm by actual ...             1\n",
       "2  viral photo captures incredible moment between...             0\n",
       "3                                limits or limitless             0\n",
       "4  charlton heston's gun taken from his cold dead...             1"
      ]
     },
     "execution_count": 16,
     "metadata": {},
     "output_type": "execute_result"
    }
   ],
   "source": [
    "# Lets have a final look at the Dataset\n",
    "train.head()"
   ]
  },
  {
   "cell_type": "markdown",
   "metadata": {
    "colab_type": "text",
    "id": "u7JYY9WYWx9o"
   },
   "source": [
    "Now, when we do feature engineering using CountVectorization, the number of columns increases in the training dataset. And when we perform the same Countvectorisation on Test dataset, the outcome has different number of columns compared to Training set. Hence I wil concat the training and testing dataset and perform the feature engineering together."
   ]
  },
  {
   "cell_type": "code",
   "execution_count": 17,
   "metadata": {
    "colab": {},
    "colab_type": "code",
    "id": "7bKT0vysX5tI"
   },
   "outputs": [],
   "source": [
    "train['label'] = 'train'\n",
    "test['label'] = 'test'"
   ]
  },
  {
   "cell_type": "code",
   "execution_count": 18,
   "metadata": {
    "colab": {
     "base_uri": "https://localhost:8080/",
     "height": 204
    },
    "colab_type": "code",
    "id": "ptwDYDKmYIWl",
    "outputId": "929b629b-7bf1-4579-a076-98e2f6daa309"
   },
   "outputs": [
    {
     "data": {
      "text/html": [
       "<div>\n",
       "<style scoped>\n",
       "    .dataframe tbody tr th:only-of-type {\n",
       "        vertical-align: middle;\n",
       "    }\n",
       "\n",
       "    .dataframe tbody tr th {\n",
       "        vertical-align: top;\n",
       "    }\n",
       "\n",
       "    .dataframe thead th {\n",
       "        text-align: right;\n",
       "    }\n",
       "</style>\n",
       "<table border=\"1\" class=\"dataframe\">\n",
       "  <thead>\n",
       "    <tr style=\"text-align: right;\">\n",
       "      <th></th>\n",
       "      <th>headline</th>\n",
       "      <th>label</th>\n",
       "    </tr>\n",
       "  </thead>\n",
       "  <tbody>\n",
       "    <tr>\n",
       "      <th>0</th>\n",
       "      <td>paul ryan is more of a con man than ever</td>\n",
       "      <td>test</td>\n",
       "    </tr>\n",
       "    <tr>\n",
       "      <th>1</th>\n",
       "      <td>to breast or bottle feed, a woman's choice: le...</td>\n",
       "      <td>test</td>\n",
       "    </tr>\n",
       "    <tr>\n",
       "      <th>2</th>\n",
       "      <td>chili's introduces savory new 200-times-baked ...</td>\n",
       "      <td>test</td>\n",
       "    </tr>\n",
       "    <tr>\n",
       "      <th>3</th>\n",
       "      <td>5 friendship lessons you learned on the playgr...</td>\n",
       "      <td>test</td>\n",
       "    </tr>\n",
       "    <tr>\n",
       "      <th>4</th>\n",
       "      <td>remembering high school</td>\n",
       "      <td>test</td>\n",
       "    </tr>\n",
       "  </tbody>\n",
       "</table>\n",
       "</div>"
      ],
      "text/plain": [
       "                                            headline label\n",
       "0           paul ryan is more of a con man than ever  test\n",
       "1  to breast or bottle feed, a woman's choice: le...  test\n",
       "2  chili's introduces savory new 200-times-baked ...  test\n",
       "3  5 friendship lessons you learned on the playgr...  test\n",
       "4                            remembering high school  test"
      ]
     },
     "execution_count": 18,
     "metadata": {},
     "output_type": "execute_result"
    }
   ],
   "source": [
    "test.head()"
   ]
  },
  {
   "cell_type": "code",
   "execution_count": 19,
   "metadata": {
    "colab": {
     "base_uri": "https://localhost:8080/",
     "height": 173
    },
    "colab_type": "code",
    "id": "PnVBnZk4YISp",
    "outputId": "9a7fd65d-202f-4703-dd53-5ca7381ecae0"
   },
   "outputs": [],
   "source": [
    "concat_df = pd.concat([train , test])"
   ]
  },
  {
   "cell_type": "code",
   "execution_count": 20,
   "metadata": {
    "colab": {
     "base_uri": "https://localhost:8080/",
     "height": 34
    },
    "colab_type": "code",
    "id": "_3xXshD3YIOx",
    "outputId": "2b71c15e-f2c4-4254-b34e-26782ce4fe4f"
   },
   "outputs": [
    {
     "data": {
      "text/plain": [
       "(26709, 3)"
      ]
     },
     "execution_count": 20,
     "metadata": {},
     "output_type": "execute_result"
    }
   ],
   "source": [
    "concat_df.shape"
   ]
  },
  {
   "cell_type": "markdown",
   "metadata": {
    "colab_type": "text",
    "id": "bG0JnL-H87fd"
   },
   "source": [
    "### Feature Engineering"
   ]
  },
  {
   "cell_type": "markdown",
   "metadata": {
    "colab_type": "text",
    "id": "gtD79sFgH-8x"
   },
   "source": [
    "**CountVectorizer**\n",
    "\n",
    "The CountVectorizer provides a simple way to both tokenize a collection of text documents and build a vocabulary of known words, but also to encode new documents using that vocabulary."
   ]
  },
  {
   "cell_type": "code",
   "execution_count": 21,
   "metadata": {
    "colab": {
     "base_uri": "https://localhost:8080/",
     "height": 34
    },
    "colab_type": "code",
    "id": "9xAmvlZb8aGD",
    "outputId": "219b7cad-ec3c-4e0a-8600-93a362a0bc5f"
   },
   "outputs": [
    {
     "data": {
      "text/plain": [
       "(26709, 25409)"
      ]
     },
     "execution_count": 21,
     "metadata": {},
     "output_type": "execute_result"
    }
   ],
   "source": [
    "# Extracting features from text files\n",
    "# CountVectorizer\n",
    "count_vect = CountVectorizer()\n",
    "concat_df_counts = count_vect.fit_transform(concat_df.headline)\n",
    "concat_df_counts.shape"
   ]
  },
  {
   "cell_type": "markdown",
   "metadata": {
    "colab_type": "text",
    "id": "wY35zcaDIG4j"
   },
   "source": [
    "**TFIDF Tranformerr**\n",
    "\n",
    "Transform a count matrix to a normalized tf or tf-idf representation"
   ]
  },
  {
   "cell_type": "code",
   "execution_count": 22,
   "metadata": {
    "colab": {
     "base_uri": "https://localhost:8080/",
     "height": 34
    },
    "colab_type": "code",
    "id": "GMtCxZC99M7N",
    "outputId": "9618761b-c121-4e09-8a3a-7d0f44ef499d"
   },
   "outputs": [
    {
     "data": {
      "text/plain": [
       "(26709, 25409)"
      ]
     },
     "execution_count": 22,
     "metadata": {},
     "output_type": "execute_result"
    }
   ],
   "source": [
    "# TF-IDF\n",
    "tfidf_transformer = TfidfTransformer()\n",
    "concat_df_tfidf = tfidf_transformer.fit_transform(concat_df_counts)\n",
    "concat_df_tfidf.shape"
   ]
  },
  {
   "cell_type": "code",
   "execution_count": 23,
   "metadata": {
    "colab": {},
    "colab_type": "code",
    "id": "Bj0VAlrmafri"
   },
   "outputs": [],
   "source": [
    "# Splitting the Dataset\n",
    "X = concat_df_tfidf\n",
    "y = np.array(concat_df['label'])\n",
    "a_test = np.where(y == 'test')\n",
    "a_train = np.where(y == 'train')\n",
    "test_mat = X[a_test]\n",
    "train_mat = X[a_train]"
   ]
  },
  {
   "cell_type": "code",
   "execution_count": 24,
   "metadata": {
    "colab": {},
    "colab_type": "code",
    "id": "IfzJ3q94-UxM"
   },
   "outputs": [],
   "source": [
    "# Defining the target variable\n",
    "y = train.is_sarcastic"
   ]
  },
  {
   "cell_type": "code",
   "execution_count": 25,
   "metadata": {
    "colab": {},
    "colab_type": "code",
    "id": "KcLNo8Bn-FBF"
   },
   "outputs": [],
   "source": [
    "# Training and Validation Split\n",
    "X_train, X_val, y_train, y_val = train_test_split(train_mat, y, test_size = 0.2, random_state = 42)"
   ]
  },
  {
   "cell_type": "code",
   "execution_count": 26,
   "metadata": {
    "colab": {
     "base_uri": "https://localhost:8080/",
     "height": 119
    },
    "colab_type": "code",
    "id": "ZN-qDrRa-Zm8",
    "outputId": "027f19e5-0d31-4888-b709-70e7cd0ffdb7"
   },
   "outputs": [
    {
     "name": "stdout",
     "output_type": "stream",
     "text": [
      "Shape of the Train and Validation Data:\n",
      "\n",
      "Training Data:  (16024, 25409)\n",
      "Training Data(target):  (16024,)\n",
      "Validation Data:  (4007, 25409)\n",
      "Validation Data(target):  (4007,)\n"
     ]
    }
   ],
   "source": [
    "print('Shape of the Train and Validation Data:\\n')\n",
    "print('Training Data: ', X_train.shape)\n",
    "print('Training Data(target): ', y_train.shape)\n",
    "print('Validation Data: ', X_val.shape)\n",
    "print('Validation Data(target): ', y_val.shape)"
   ]
  },
  {
   "cell_type": "markdown",
   "metadata": {
    "colab_type": "text",
    "id": "959e8R2A9XqE"
   },
   "source": [
    "### Modelling"
   ]
  },
  {
   "cell_type": "markdown",
   "metadata": {
    "colab_type": "text",
    "id": "q1l0XtOA9tZR"
   },
   "source": [
    "Naive Bayes Classifier"
   ]
  },
  {
   "cell_type": "code",
   "execution_count": 27,
   "metadata": {
    "colab": {},
    "colab_type": "code",
    "id": "AMNt8a8m9Spt"
   },
   "outputs": [],
   "source": [
    "NB_clf = MultinomialNB().fit(train_mat, y)"
   ]
  },
  {
   "cell_type": "code",
   "execution_count": 28,
   "metadata": {
    "colab": {},
    "colab_type": "code",
    "id": "aATW5APR_BgE"
   },
   "outputs": [],
   "source": [
    "NB_predicted = NB_clf.predict(X_val)"
   ]
  },
  {
   "cell_type": "code",
   "execution_count": 29,
   "metadata": {
    "colab": {
     "base_uri": "https://localhost:8080/",
     "height": 51
    },
    "colab_type": "code",
    "id": "y54utRnKHaAQ",
    "outputId": "08dcd11a-83e8-40fd-ca24-5cc6676a8477"
   },
   "outputs": [
    {
     "data": {
      "text/plain": [
       "array([[2162,   31],\n",
       "       [ 349, 1465]], dtype=int64)"
      ]
     },
     "execution_count": 29,
     "metadata": {},
     "output_type": "execute_result"
    }
   ],
   "source": [
    "metrics.confusion_matrix(y_val, NB_predicted)"
   ]
  },
  {
   "cell_type": "code",
   "execution_count": 30,
   "metadata": {
    "colab": {
     "base_uri": "https://localhost:8080/",
     "height": 170
    },
    "colab_type": "code",
    "id": "xP-BEboQBmS7",
    "outputId": "0c87b8e8-9dac-4c18-e4ca-a8d778dcad2a"
   },
   "outputs": [
    {
     "name": "stdout",
     "output_type": "stream",
     "text": [
      "             precision    recall  f1-score   support\n",
      "\n",
      "          0       0.86      0.99      0.92      2193\n",
      "          1       0.98      0.81      0.89      1814\n",
      "\n",
      "avg / total       0.91      0.91      0.90      4007\n",
      "\n"
     ]
    }
   ],
   "source": [
    "NB_cr = metrics.classification_report(y_val, NB_predicted)\n",
    "print(NB_cr)"
   ]
  },
  {
   "cell_type": "code",
   "execution_count": 31,
   "metadata": {
    "colab": {
     "base_uri": "https://localhost:8080/",
     "height": 295
    },
    "colab_type": "code",
    "id": "vbBzx_SG_6_k",
    "outputId": "4e2ef462-306f-48b3-c3d8-3da6f0ca08be"
   },
   "outputs": [
    {
     "data": {
      "image/png": "[encoded data removed]",
      "text/plain": [
       "<matplotlib.figure.Figure at 0x6e7075af28>"
      ]
     },
     "metadata": {},
     "output_type": "display_data"
    }
   ],
   "source": [
    "# calculate the fpr and tpr for all thresholds of the classification\n",
    "probs = NB_clf.predict_proba(X_val)\n",
    "preds = probs[:,1]\n",
    "fpr, tpr, threshold = metrics.roc_curve(y_val, preds)\n",
    "roc_auc = metrics.auc(fpr, tpr)\n",
    "\n",
    "plt.title('Receiver Operating Characteristic (Naive Bayes Classifier)')\n",
    "plt.plot(fpr, tpr, 'b', label = 'AUC = %0.2f' % roc_auc)\n",
    "plt.legend(loc = 'lower right')\n",
    "plt.plot([0, 1], [0, 1],'r--')\n",
    "plt.xlim([0, 1])\n",
    "plt.ylim([0, 1])\n",
    "plt.ylabel('True Positive Rate')\n",
    "plt.xlabel('False Positive Rate')\n",
    "plt.show()"
   ]
  },
  {
   "cell_type": "markdown",
   "metadata": {
    "colab_type": "text",
    "id": "60NHf1-rTf5s"
   },
   "source": [
    "### Test dataset"
   ]
  },
  {
   "cell_type": "code",
   "execution_count": 40,
   "metadata": {
    "colab": {},
    "colab_type": "code",
    "id": "FZiw_mrnBD5G"
   },
   "outputs": [
    {
     "data": {
      "text/plain": [
       "array([0, 0, 0, ..., 0, 1, 0], dtype=int64)"
      ]
     },
     "execution_count": 40,
     "metadata": {},
     "output_type": "execute_result"
    }
   ],
   "source": [
    "NB_predicted_test = NB_clf.predict(X_val)\n",
    "NB_predicted_test"
   ]
  },
  {
   "cell_type": "code",
   "execution_count": 41,
   "metadata": {},
   "outputs": [
    {
     "data": {
      "text/plain": [
       "array([[2162,   31],\n",
       "       [ 349, 1465]], dtype=int64)"
      ]
     },
     "execution_count": 41,
     "metadata": {},
     "output_type": "execute_result"
    }
   ],
   "source": [
    "metrics.confusion_matrix(y_val, NB_predicted_test)"
   ]
  },
  {
   "cell_type": "code",
   "execution_count": 42,
   "metadata": {
    "colab": {},
    "colab_type": "code",
    "id": "cJtWAft5fMSg"
   },
   "outputs": [
    {
     "name": "stdout",
     "output_type": "stream",
     "text": [
      "             precision    recall  f1-score   support\n",
      "\n",
      "          0       0.86      0.99      0.92      2193\n",
      "          1       0.98      0.81      0.89      1814\n",
      "\n",
      "avg / total       0.91      0.91      0.90      4007\n",
      "\n"
     ]
    }
   ],
   "source": [
    "NB_cr = metrics.classification_report(y_val, NB_predicted_test)\n",
    "print(NB_cr)"
   ]
  }
 ],
 "metadata": {
  "colab": {
   "collapsed_sections": [],
   "name": "Sarcasm_Detection_AbhishekKumar_Tech2Hire.ipynb",
   "provenance": [],
   "version": "0.3.2"
  },
  "kernelspec": {
   "display_name": "Python 3",
   "language": "python",
   "name": "python3"
  },
  "language_info": {
   "codemirror_mode": {
    "name": "ipython",
    "version": 3
   },
   "file_extension": ".py",
   "mimetype": "text/x-python",
   "name": "python",
   "nbconvert_exporter": "python",
   "pygments_lexer": "ipython3",
   "version": "3.6.4"
  }
 },
 "nbformat": 4,
 "nbformat_minor": 1
}
